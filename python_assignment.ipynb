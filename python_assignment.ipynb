{
  "cells": [
    {
      "cell_type": "markdown",
      "metadata": {
        "id": "view-in-github",
        "colab_type": "text"
      },
      "source": [
        "<a href=\"https://colab.research.google.com/github/MuhammedSuhaib/1stfigmaClone/blob/main/python_assignment.ipynb\" target=\"_parent\"><img src=\"https://colab.research.google.com/assets/colab-badge.svg\" alt=\"Open In Colab\"/></a>"
      ]
    },
    {
      "cell_type": "markdown",
      "id": "98e68fe2",
      "metadata": {
        "id": "98e68fe2"
      },
      "source": [
        "# Python Assignment: List, Tuples, and Methods"
      ]
    },
    {
      "cell_type": "markdown",
      "id": "12f3d00f",
      "metadata": {
        "id": "12f3d00f"
      },
      "source": [
        "## Basic List Operations"
      ]
    },
    {
      "cell_type": "markdown",
      "id": "1be28139",
      "metadata": {
        "id": "1be28139"
      },
      "source": [
        "### 1. Create a list of five numbers and append a new number to it."
      ]
    },
    {
      "cell_type": "code",
      "execution_count": null,
      "id": "d22852e4",
      "metadata": {
        "id": "d22852e4"
      },
      "outputs": [],
      "source": [
        "nums = [1, 2, 3, 4, 5]\n",
        "# print('nums: ', nums)\n",
        "nums.append(6)  # Append\n",
        "print('nums: ', nums)"
      ]
    },
    {
      "cell_type": "markdown",
      "id": "8ef1c6f7",
      "metadata": {
        "id": "8ef1c6f7"
      },
      "source": [
        "### 2. Extend a list [1, 2, 3] with another list [4, 5, 6]."
      ]
    },
    {
      "cell_type": "code",
      "execution_count": null,
      "id": "83c4138c",
      "metadata": {
        "id": "83c4138c"
      },
      "outputs": [],
      "source": [
        "list1 = [1, 2, 3]  # List\n",
        "# print('list1:', list)\n",
        "list1.extend([4, 5, 6])  # Extend\n",
        "print('list1:  ', list1)"
      ]
    },
    {
      "cell_type": "markdown",
      "id": "0f0e8ff1",
      "metadata": {
        "id": "0f0e8ff1"
      },
      "source": [
        "### 3. Insert the string 'Python' at index 2 in the list ['Java', 'C++', 'JavaScript', 'Ruby']."
      ]
    },
    {
      "cell_type": "code",
      "execution_count": null,
      "id": "5148f494",
      "metadata": {
        "id": "5148f494"
      },
      "outputs": [],
      "source": [
        "list2 = [\"Java\", \"C++\", \"JavaScript\", \"Ruby\"]\n",
        "# print('list2: ', list2)\n",
        "list2.insert(2,\"Python\") #insert\n",
        "print('list2: ', list2)"
      ]
    },
    {
      "cell_type": "markdown",
      "id": "b317e1e1",
      "metadata": {
        "id": "b317e1e1"
      },
      "source": [
        "### 4. Remove the first occurrence of the number 10 from the list [10, 20, 30, 10, 40]."
      ]
    },
    {
      "cell_type": "code",
      "execution_count": null,
      "id": "2497b055",
      "metadata": {
        "id": "2497b055"
      },
      "outputs": [],
      "source": [
        "list3 = [10, 20, 30, 10, 40]\n",
        "list3.remove(10)\n",
        "print('list3:', list3)"
      ]
    },
    {
      "cell_type": "markdown",
      "id": "90f213c2",
      "metadata": {
        "id": "90f213c2"
      },
      "source": [
        "### 5. Use the pop() method to remove the last element from [100, 200, 300, 400]."
      ]
    },
    {
      "cell_type": "code",
      "execution_count": null,
      "id": "88841211",
      "metadata": {
        "id": "88841211"
      },
      "outputs": [],
      "source": [
        "list4 = [100, 200, 300, 400]\n",
        "list4.pop()\n",
        "print('list4:', list4)"
      ]
    },
    {
      "cell_type": "markdown",
      "id": "1c741716",
      "metadata": {
        "id": "1c741716"
      },
      "source": [
        "## Intermediate List Operations"
      ]
    },
    {
      "cell_type": "markdown",
      "id": "c4ba9494",
      "metadata": {
        "id": "c4ba9494"
      },
      "source": [
        "### 6. Count how many times the number 5 appears in the list [5, 10, 5, 20, 5, 30]."
      ]
    },
    {
      "cell_type": "code",
      "execution_count": null,
      "id": "35eaa378",
      "metadata": {
        "id": "35eaa378"
      },
      "outputs": [],
      "source": [
        "list5 = [5, 10, 5, 20, 5, 30]\n",
        "print('Count of 5:', list5.count(5))"
      ]
    },
    {
      "cell_type": "markdown",
      "id": "5d6d5bdb",
      "metadata": {
        "id": "5d6d5bdb"
      },
      "source": [
        "### 7. Sort the list [9, 1, 8, 3, 5] in ascending and descending order."
      ]
    },
    {
      "cell_type": "code",
      "execution_count": null,
      "id": "eb33fc15",
      "metadata": {
        "id": "eb33fc15"
      },
      "outputs": [],
      "source": [
        "list6 = [9, 1, 8, 3, 5]\n",
        "print('list6: ', list6)\n",
        "list6.sort()\n",
        "print('Ascending:', list6)\n",
        "list6.sort(reverse=True)\n",
        "print('Descending:', list6)"
      ]
    },
    {
      "cell_type": "markdown",
      "id": "5f0a6b46",
      "metadata": {
        "id": "5f0a6b46"
      },
      "source": [
        "### 8. Reverse the list ['apple', 'banana', 'cherry']."
      ]
    },
    {
      "cell_type": "code",
      "execution_count": null,
      "id": "3fa32178",
      "metadata": {
        "id": "3fa32178"
      },
      "outputs": [],
      "source": [
        "list7 = ['apple', 'banana', 'cherry']\n",
        "print('list7: ', list7)\n",
        "list7.reverse()\n",
        "print('Reversed list:', list7)"
      ]
    },
    {
      "cell_type": "markdown",
      "id": "86a021ce",
      "metadata": {
        "id": "86a021ce"
      },
      "source": [
        "### 9. Create a copy of the list [1, 2, 3, 4, 5] and store it in another variable."
      ]
    },
    {
      "cell_type": "code",
      "execution_count": null,
      "id": "4b9153e6",
      "metadata": {
        "id": "4b9153e6"
      },
      "outputs": [],
      "source": [
        "list8 = [1,2,3,4,5]\n",
        "copied_list = list8.copy()\n",
        "print('copied_list: ', copied_list)\n",
        "copied_list.pop()\n",
        "print('updated copy list: ', copied_list)\n",
        "print(\"Original list:\", list8)"
      ]
    },
    {
      "cell_type": "markdown",
      "id": "aa66eea5",
      "metadata": {
        "id": "aa66eea5"
      },
      "source": [
        "### 10. Clear all elements from a list ['hello', 'world', 'python']."
      ]
    },
    {
      "cell_type": "code",
      "execution_count": null,
      "id": "8c7fc1d6",
      "metadata": {
        "id": "8c7fc1d6"
      },
      "outputs": [],
      "source": [
        "list9 = ['hello', 'world', 'python']\n",
        "print('list9: ', list9)\n",
        "list9.clear()\n",
        "print('list9:', list9)"
      ]
    },
    {
      "cell_type": "markdown",
      "id": "6713144a",
      "metadata": {
        "id": "6713144a"
      },
      "source": [
        "## Tuple-Based Questions"
      ]
    },
    {
      "cell_type": "markdown",
      "id": "5ea4a1cd",
      "metadata": {
        "id": "5ea4a1cd"
      },
      "source": [
        "### 11. Create a tuple with 5 different fruits and print the third fruit."
      ]
    },
    {
      "cell_type": "code",
      "execution_count": null,
      "id": "003f77f1",
      "metadata": {
        "id": "003f77f1"
      },
      "outputs": [],
      "source": [
        "fruits_tuple = ('apple', 'banana', 'cherry', 'mango', 'orange')\n",
        "print('Third fruit:', fruits_tuple[2])"
      ]
    },
    {
      "cell_type": "markdown",
      "id": "95ac263b",
      "metadata": {
        "id": "95ac263b"
      },
      "source": [
        "### 12. Convert the tuple (10, 20, 30, 40, 50) into a list, remove the number 30, and convert it back into a tuple."
      ]
    },
    {
      "cell_type": "code",
      "execution_count": null,
      "id": "83f5dd57",
      "metadata": {
        "id": "83f5dd57"
      },
      "outputs": [],
      "source": [
        "tuple2 = (10, 20, 30, 40, 50)\n",
        "print('tuple2:', tuple2)\n",
        "list10 = list(tuple2)\n",
        "print('list10:', list10)\n",
        "list10.remove(30)\n",
        "print('list10 updated:', list10)\n",
        "tuple2 = tuple(list10)\n",
        "print('tuple2 updated:', tuple2)"
      ]
    },
    {
      "cell_type": "markdown",
      "id": "42312f4b",
      "metadata": {
        "id": "42312f4b"
      },
      "source": [
        "### 13. Try to append an element to the tuple ('A', 'B', 'C'). What happens? How can you modify a tuple indirectly?"
      ]
    },
    {
      "cell_type": "code",
      "execution_count": null,
      "id": "a9ad1c9f",
      "metadata": {
        "id": "a9ad1c9f"
      },
      "outputs": [],
      "source": [
        "tuple3 = ('A', 'B', 'C')\n",
        "# tuple3.append('D')  # This will raise an error\n",
        "list_temp = list(tuple3)\n",
        "list_temp.append('D')\n",
        "tuple3 = tuple(list_temp)\n",
        "print('Modified tuple:', tuple3)"
      ]
    },
    {
      "cell_type": "markdown",
      "id": "41574060",
      "metadata": {
        "id": "41574060"
      },
      "source": [
        "### 14. Unpack the tuple (100, 200, 300) into three separate variables and print them."
      ]
    },
    {
      "cell_type": "code",
      "execution_count": null,
      "id": "9fbd1da0",
      "metadata": {
        "id": "9fbd1da0"
      },
      "outputs": [],
      "source": [
        "a, b, c = (100, 200, 300)\n",
        "print('a:', a, 'b:', b, 'c:', c)"
      ]
    },
    {
      "cell_type": "markdown",
      "id": "914955e6",
      "metadata": {
        "id": "914955e6"
      },
      "source": [
        "### 15. Count the occurrences of 7 in the tuple (7, 1, 7, 3, 7, 5)."
      ]
    },
    {
      "cell_type": "code",
      "execution_count": null,
      "id": "8cfe66c7",
      "metadata": {
        "id": "8cfe66c7"
      },
      "outputs": [],
      "source": [
        "tuple4 = (7, 1, 7, 3, 7, 5)\n",
        "print('Occurrences of 7:', tuple4.count(7))"
      ]
    },
    {
      "cell_type": "markdown",
      "id": "a99a4f41",
      "metadata": {
        "id": "a99a4f41"
      },
      "source": [
        "## Advance Problems"
      ]
    },
    {
      "cell_type": "markdown",
      "id": "950fcffd",
      "metadata": {
        "id": "950fcffd"
      },
      "source": [
        "### 16. Write a function that takes a list and returns a new list with all even numbers removed.\n"
      ]
    },
    {
      "cell_type": "code",
      "execution_count": null,
      "id": "a0616b8b",
      "metadata": {
        "id": "a0616b8b"
      },
      "outputs": [],
      "source": [
        "numbers = [1,2,3,4,5,6,7,8,9,10]           # List of numbers\n",
        "def fun(numbers):                          # created a function that accepts array of numbers\n",
        "    odd_array=[]\n",
        "    for x in numbers[:]:                   # for each item in numbers\n",
        "        if x%2 !=0:                        # check if there is no zero in reminder if divided by 2\n",
        "            # print(\"items: \",x)           # if there is no zero it means it is odd\n",
        "            odd_array.append(x)            # now  finally push that into our new array\n",
        "    print('odd_array: ', odd_array)        # here we go...\n",
        "    return\n",
        "fun(numbers)"
      ]
    },
    {
      "cell_type": "markdown",
      "id": "012ab211",
      "metadata": {
        "id": "012ab211"
      },
      "source": [
        "### 17. Create a function that accepts a list and returns a new list with elements sorted in descending order without using the sort() method"
      ]
    },
    {
      "cell_type": "code",
      "execution_count": null,
      "id": "f0d381f4",
      "metadata": {
        "id": "f0d381f4"
      },
      "outputs": [],
      "source": [
        "real = [5,10,2,3,9,20,16,7,8,9,10]\n",
        "def func(real):\n",
        "    descending=[]\n",
        "    print(real)\n",
        "    ascending = set(real)\n",
        "    print('ascending: ', ascending)\n",
        "    converted_into_list = list(ascending)\n",
        "    ascending= converted_into_list\n",
        "    for nums in ascending:\n",
        "        descending.append(nums)\n",
        "    print('descending: ', descending[::-1]) #Sir hamza`s trick\n",
        "    return\n",
        "func(real)"
      ]
    },
    {
      "cell_type": "markdown",
      "id": "6f9ef79f",
      "metadata": {
        "id": "6f9ef79f"
      },
      "source": [
        "# 18. Given a list of numbers, write a program to remove all duplicate elements and print the unique elements."
      ]
    },
    {
      "cell_type": "code",
      "execution_count": null,
      "id": "f08dab98",
      "metadata": {
        "id": "f08dab98"
      },
      "outputs": [],
      "source": [
        "numbers = [5,10,2,3,9,20,16,7,8,9,10]\n",
        "print('unique: ' , set(numbers))"
      ]
    },
    {
      "cell_type": "markdown",
      "id": "e29fe620",
      "metadata": {
        "id": "e29fe620"
      },
      "source": [
        "### 19. Given a tuple of names (“Alice”, “Bob”, “Charlie”, “Alice”, “David”), convert it into a list, remove duplicates, and convert it back to a tuple."
      ]
    },
    {
      "cell_type": "code",
      "execution_count": null,
      "id": "36570c37",
      "metadata": {
        "id": "36570c37"
      },
      "outputs": [],
      "source": [
        "tuple19 = ('Alice', 'Bob', 'Charlie', 'Alice', 'David')\n",
        "arr = list(tuple19)\n",
        "print('Converted into a list: ', arr)\n",
        "arr = tuple(set(arr))\n",
        "print('Back to tuple: ', arr)"
      ]
    },
    {
      "cell_type": "markdown",
      "id": "b6bb5e34",
      "metadata": {
        "id": "b6bb5e34"
      },
      "source": [
        "### 20. Create a program that takes a list of mixed data types (int, str, float) and separates integers into one list, strings into another, and floats into another"
      ]
    },
    {
      "cell_type": "code",
      "execution_count": null,
      "id": "87d52211",
      "metadata": {
        "id": "87d52211"
      },
      "outputs": [],
      "source": [
        "mixed_list = [42,9,\"Me\",99.92, \"apple\", 2.718, ]\n",
        "numbers=[]\n",
        "decimals=[]\n",
        "strgs=[]\n",
        "for item in mixed_list:\n",
        "    if isinstance(item, int):\n",
        "        numbers.append(item)\n",
        "print('numbers: ', numbers)\n",
        "for item in mixed_list:\n",
        "    if isinstance(item, float):\n",
        "        decimals.append(item)\n",
        "print('decimals: ', decimals)\n",
        "for item in mixed_list:\n",
        "    if isinstance(item, str):\n",
        "        strgs.append(item)\n",
        "print('strgs: ', strgs)"
      ]
    }
  ],
  "metadata": {
    "kernelspec": {
      "display_name": "Python 3",
      "language": "python",
      "name": "python3"
    },
    "language_info": {
      "codemirror_mode": {
        "name": "ipython",
        "version": 3
      },
      "file_extension": ".py",
      "mimetype": "text/x-python",
      "name": "python",
      "nbconvert_exporter": "python",
      "pygments_lexer": "ipython3",
      "version": "3.13.2"
    },
    "colab": {
      "provenance": [],
      "include_colab_link": true
    }
  },
  "nbformat": 4,
  "nbformat_minor": 5
}